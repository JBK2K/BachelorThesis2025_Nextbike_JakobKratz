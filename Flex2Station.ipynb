{
 "cells": [
  {
   "cell_type": "code",
   "execution_count": 1,
   "id": "fd3f6215",
   "metadata": {},
   "outputs": [
    {
     "name": "stdout",
     "output_type": "stream",
     "text": [
      " Bike-Number         Rental-Time        Rental-Type                                     Rental-Location  Rental-Lat  Rental-Lng         Return-Time        Return-Type                  Return-Location  Return-Lat  Return-Lng  Duration-Minutes   Movement-Type\n",
      "      100245 2025-07-23 21:56:39 Station (virtuell)                            U Schlesisches Tor (Ost)   52.500794   13.442182 2025-07-23 22:08:17 Station (virtuell)        Elsenstraße/Harzer Straße   52.485136   13.449063              11.6 Station:Station\n",
      "       13167 2025-07-23 20:22:59 Station (virtuell)                           Elsenstraße/Harzer Straße   52.485136   13.449063 2025-07-23 22:08:17 Station (virtuell) Modersohnstraße (Am Rudolfplatz)   52.502492   13.456503             105.3 Station:Station\n",
      "       19766 2025-07-23 21:56:31 Station (physisch) Jelbi S+U Zoologischer Garten/Jebensstraße (CHA/JE)   52.506622   13.331480 2025-07-23 22:08:26 Station (virtuell)  Franklinstraße/Glutenbergstraße   52.518675   13.326239              11.9 Station:Station\n",
      "       17851 2025-07-23 21:49:59 Station (virtuell)          Jelbi Marie-Elisabeth-Lüders-Haus (MIT/ML)   52.520840   13.377520 2025-07-23 22:08:26 Station (physisch)               Merseburger Straße   52.488525   13.352451              18.4 Station:Station\n",
      "       13409 2025-07-23 22:06:53 Station (virtuell)                      Wiener Straße (Spreewaldplatz)   52.497451   13.432097 2025-07-23 22:08:34 Station (virtuell)   Wiener Straße (Spreewaldplatz)   52.497451   13.432097               1.7 Station:Station\n",
      "Length of the dataframe before cleaning: 209693\n",
      " Bike-Number         Rental-Time        Rental-Type                                     Rental-Location  Rental-Lat  Rental-Lng         Return-Time        Return-Type                  Return-Location  Return-Lat  Return-Lng  Duration-Minutes   Movement-Type  weekday_idx  is_weekend  hour\n",
      "      100245 2025-07-23 21:56:39 Station (virtuell)                            U Schlesisches Tor (Ost)   52.500794   13.442182 2025-07-23 22:08:17 Station (virtuell)        Elsenstraße/Harzer Straße   52.485136   13.449063              11.6 Station:Station            2       False    21\n",
      "       13167 2025-07-23 20:22:59 Station (virtuell)                           Elsenstraße/Harzer Straße   52.485136   13.449063 2025-07-23 22:08:17 Station (virtuell) Modersohnstraße (Am Rudolfplatz)   52.502492   13.456503             105.3 Station:Station            2       False    20\n",
      "       19766 2025-07-23 21:56:31 Station (physisch) Jelbi S+U Zoologischer Garten/Jebensstraße (CHA/JE)   52.506622   13.331480 2025-07-23 22:08:26 Station (virtuell)  Franklinstraße/Glutenbergstraße   52.518675   13.326239              11.9 Station:Station            2       False    21\n",
      "       17851 2025-07-23 21:49:59 Station (virtuell)          Jelbi Marie-Elisabeth-Lüders-Haus (MIT/ML)   52.520840   13.377520 2025-07-23 22:08:26 Station (physisch)               Merseburger Straße   52.488525   13.352451              18.4 Station:Station            2       False    21\n",
      "       10564 2025-07-23 21:57:30 Station (virtuell)              Luxemburger Straße (Atze Musiktheater)   52.543288   13.352235 2025-07-23 22:08:53 Station (virtuell)                   S Humboldthain   52.544556   13.378611              11.4 Station:Station            2       False    21\n",
      "Length of the dataframe after cleaning: 167799\n"
     ]
    }
   ],
   "source": [
    "import pandas as pd, numpy as np\n",
    "\n",
    "trip_sheet = '/DATA/TripAnalysis/nextbike_trips.csv'\n",
    "\n",
    "#before cleaning\n",
    "trip_df = pd.read_csv(trip_sheet.lstrip('/'))\n",
    "print(trip_df.head(5).to_string(index=False))\n",
    "print(f\"Length of the dataframe before cleaning: {len(trip_df)}\")\n",
    "\n",
    "trip_df = (\n",
    "    pd.read_csv(trip_sheet.lstrip('/'))\n",
    "      .pipe(lambda d: d.rename(columns={c: c.strip() for c in d.columns}))\n",
    "      .assign(**{\n",
    "          'Duration-Minutes': lambda d: pd.to_numeric(d['Duration-Minutes'], errors='coerce'),\n",
    "          'Rental-Lat':       lambda d: pd.to_numeric(d['Rental-Lat'], errors='coerce'),\n",
    "          'Rental-Lng':       lambda d: pd.to_numeric(d['Rental-Lng'], errors='coerce'),\n",
    "          'Return-Lat':       lambda d: pd.to_numeric(d['Return-Lat'], errors='coerce'),\n",
    "          'Return-Lng':       lambda d: pd.to_numeric(d['Return-Lng'], errors='coerce'),\n",
    "      })\n",
    "      .loc[lambda d: ~d.apply(lambda r: r.astype(str).str.contains('unbekannt', case=False).any(), axis=1)]\n",
    "      .loc[lambda d: d['Duration-Minutes'] > 2]\n",
    "      .loc[lambda d: ~((d['Rental-Lat'] == d['Return-Lat']) & (d['Rental-Lng'] == d['Return-Lng']))]\n",
    "      .assign(**{\n",
    "          'Rental-Time': lambda d: pd.to_datetime(d['Rental-Time'], errors='coerce'),\n",
    "          'weekday_idx': lambda d: d['Rental-Time'].dt.weekday,\n",
    "          'is_weekend':  lambda d: d['weekday_idx'] >= 5,\n",
    "          'hour':        lambda d: d['Rental-Time'].dt.hour,\n",
    "      })\n",
    "      .reset_index(drop=True)\n",
    ")\n",
    "\n",
    "print(trip_df.head(5).to_string(index=False))\n",
    "print(f\"Length of the dataframe after cleaning: {len(trip_df)}\")"
   ]
  }
 ],
 "metadata": {
  "kernelspec": {
   "display_name": "venv (3.13.1)",
   "language": "python",
   "name": "python3"
  },
  "language_info": {
   "codemirror_mode": {
    "name": "ipython",
    "version": 3
   },
   "file_extension": ".py",
   "mimetype": "text/x-python",
   "name": "python",
   "nbconvert_exporter": "python",
   "pygments_lexer": "ipython3",
   "version": "3.13.1"
  }
 },
 "nbformat": 4,
 "nbformat_minor": 5
}
